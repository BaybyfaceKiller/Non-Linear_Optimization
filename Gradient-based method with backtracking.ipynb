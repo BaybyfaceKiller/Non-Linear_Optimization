{
  "nbformat": 4,
  "nbformat_minor": 0,
  "metadata": {
    "colab": {
      "name": "Computational_Project_part1.ipynb",
      "provenance": [],
      "collapsed_sections": []
    },
    "kernelspec": {
      "name": "python3",
      "display_name": "Python 3"
    },
    "language_info": {
      "name": "python"
    }
  },
  "cells": [
    {
      "cell_type": "code",
      "metadata": {
        "id": "QzUpgmBuyooX"
      },
      "source": [
        "import numpy as np"
      ],
      "execution_count": null,
      "outputs": []
    },
    {
      "cell_type": "markdown",
      "metadata": {
        "id": "wABlFflsEXJi"
      },
      "source": [
        "# Algorithm implementation"
      ]
    },
    {
      "cell_type": "code",
      "metadata": {
        "id": "mDT0AIpdE6H_"
      },
      "source": [
        "def backtracking(function,gradient,initial_s,gamma,beta,initial_x):\n",
        "    \"\"\"\n",
        "    Description: \n",
        "    Gradient-based method with backtracking to\n",
        "    find the minimum of a multivariant function\n",
        "    Parameters:\n",
        "    function: objective function to be minimized\n",
        "    gradient: gradient of objective function\n",
        "    initial_s: initial guess of step length\n",
        "    gamma: real number between 0 and 1 to \n",
        "    test if the function is decreased sufficiently\n",
        "    beta: real number between 0 and 1 to decrease the \n",
        "    step length if the original one does not make\n",
        "    sufficient decrease\n",
        "    initial_x: initial point\n",
        "    \"\"\"\n",
        "    # import library\n",
        "    import numpy as np\n",
        "    # set maximum number of iteration\n",
        "    max_iter=1000\n",
        "    # set stop criteria\n",
        "    stop_criteria=1E-5\n",
        "    # print initial point\n",
        "    print('Initial point: {}.T'.format(initial_x.reshape(1,-1)))\n",
        "    # set x to initial point\n",
        "    x_k=initial_x\n",
        "    # set s to initial s\n",
        "    s=initial_s\n",
        "    # create lists to store result\n",
        "    d_k_list=[]\n",
        "    s_list=[]\n",
        "    x_k_list=[]\n",
        "    # iterate until maximum iteration is reached \n",
        "    for iter in range(max_iter):\n",
        "        # calcualte gradient value\n",
        "        gradient_k=gradient(x_k)\n",
        "        # calcualte function value\n",
        "        function_k=function(x_k)\n",
        "        # set s to initial s\n",
        "        s=initial_s\n",
        "        # check stop criteria\n",
        "        if ((np.linalg.norm(gradient_k)/(1+np.abs(function_k))) > stop_criteria):\n",
        "            # descent direction\n",
        "            d_k=-gradient_k\n",
        "            # next point\n",
        "            x_k_plus_one=x_k+s*d_k\n",
        "            # check if the sufficient decrease condition is met\n",
        "            while (function(x_k) - function(x_k-s*gradient(x_k))) < (-gamma*s*np.dot(gradient_k.T,d_k)):\n",
        "                # update step length\n",
        "                s=beta*s\n",
        "                # re-calculate next point\n",
        "                x_k_plus_one=x_k+s*d_k\n",
        "            # update x\n",
        "            x_k=x_k_plus_one\n",
        "            # put result in lists\n",
        "            d_k_list.append(d_k)\n",
        "            s_list.append(s)\n",
        "            x_k_list.append(x_k)\n",
        "        # if the stop criteria is satisfied\n",
        "        else:\n",
        "            # print out the solution\n",
        "            print('Solution found: {}.T'.format(x_k.reshape(1,-1)))\n",
        "            # break the iteration\n",
        "            break\n",
        "    # print result\n",
        "    # if iteration less than 15 print each iteration\n",
        "    if iter < 15:\n",
        "        for i in range(iter):\n",
        "            print('=====Iteration{}====='.format(i+1))\n",
        "            # print search direction\n",
        "            print('Search direction: {}.T'.format(d_k_list[i].reshape(1,-1)))\n",
        "            # print step length\n",
        "            print('Step length: {}'.format(s_list[i]))\n",
        "            # print new iterate\n",
        "            print('New iterate: {}.T'.format(x_k_list[i].reshape(1,-1)))\n",
        "    # if iteration is greater than 15\n",
        "    else:\n",
        "        # print first 10 iterations\n",
        "        for i in range(10):\n",
        "            print('=====Iteration{}====='.format(i+1))\n",
        "            # print search direction\n",
        "            print('Search direction: {}.T'.format(d_k_list[i].reshape(1,-1)))\n",
        "            # print step length\n",
        "            print('Step length: {}'.format(s_list[i]))\n",
        "            # print new iterate\n",
        "            print('New iterate: {}.T'.format(x_k_list[i].reshape(1,-1)))\n",
        "        print('''\n",
        "        ..........\n",
        "        ..........''')\n",
        "        # print last 5 iterations\n",
        "        for i in range(5):\n",
        "            print('=====Iteration{}====='.format(iter-3+i))\n",
        "            # print search direction\n",
        "            print('Search direction: {}.T'.format(d_k_list[iter-5+i].reshape(1,-1)))\n",
        "            # print step length\n",
        "            print('Step length: {}'.format(s_list[iter-5+i]))\n",
        "            # print new iterate\n",
        "            print('New iterate: {}.T'.format(x_k_list[iter-5+i].reshape(1,-1)))\n",
        "        # print warning if maximum iteration is reached\n",
        "        if iter == 999:\n",
        "            print('====================')\n",
        "            print('Maximum iteration is reached !!!')\n"
      ],
      "execution_count": null,
      "outputs": []
    },
    {
      "cell_type": "markdown",
      "metadata": {
        "id": "PVkt_HZ-2zqt"
      },
      "source": [
        "# Test function 1: \n",
        "\\begin{equation}\n",
        "f_{1}(x)=x_{1}^{2}+x_{2}^{2}+x_{3}^{2}\n",
        "\\end{equation}"
      ]
    },
    {
      "cell_type": "code",
      "metadata": {
        "id": "ob8YjWm2xiQh"
      },
      "source": [
        "# define function\n",
        "def function_1(x):\n",
        "    x1=x[0]\n",
        "    x2=x[1]\n",
        "    x3=x[2]\n",
        "    return x1**2+x2**2+x3**2\n",
        "# define gradient\n",
        "def gradient_1(x):\n",
        "    x1=x[0]\n",
        "    x2=x[1]\n",
        "    x3=x[2]\n",
        "    gradient=np.array([2*x1,2*x2,2*x3]).reshape(-1,1)\n",
        "    return gradient"
      ],
      "execution_count": null,
      "outputs": []
    },
    {
      "cell_type": "code",
      "metadata": {
        "colab": {
          "base_uri": "https://localhost:8080/"
        },
        "id": "8AkITghzyEZq",
        "outputId": "097e112c-48b6-47f8-e6c5-2b5ae50fcf9d"
      },
      "source": [
        "# initial point (1,1,1).T\n",
        "initial=np.array([1,1,1]).reshape(-1,1)\n",
        "backtracking(function_1,gradient_1,1,0.3,0.5,initial)"
      ],
      "execution_count": null,
      "outputs": [
        {
          "output_type": "stream",
          "text": [
            "Initial point: [[1 1 1]].T\n",
            "Solution found: [[0. 0. 0.]].T\n",
            "=====Iteration1=====\n",
            "Search direction: [[-2 -2 -2]].T\n",
            "Step length: 0.5\n",
            "New iterate: [[0. 0. 0.]].T\n"
          ],
          "name": "stdout"
        }
      ]
    },
    {
      "cell_type": "markdown",
      "metadata": {
        "id": "u9LiAaZAQ4qk"
      },
      "source": [
        "# Test function 2: \n",
        "\\begin{equation}\n",
        "f_{2}(x)=x_{1}^{2}+2 x_{2}^{2}-2 x_{1} x_{2}-2 x_{2}\n",
        "\\end{equation}"
      ]
    },
    {
      "cell_type": "code",
      "metadata": {
        "id": "G3-LXrjSRAXs"
      },
      "source": [
        "# define function\n",
        "def function_2(x):\n",
        "    x1=x[0]\n",
        "    x2=x[1]\n",
        "    return x1**2+2*x2**2-2*x1*x2-2*x2\n",
        "# define gradient\n",
        "def gradient_2(x):\n",
        "    x1=x[0]\n",
        "    x2=x[1]\n",
        "    gradient=np.array([2*x1-2*x2,4*x2-2*x1-2]).reshape(-1,1)\n",
        "    return gradient"
      ],
      "execution_count": null,
      "outputs": []
    },
    {
      "cell_type": "code",
      "metadata": {
        "colab": {
          "base_uri": "https://localhost:8080/"
        },
        "id": "rRrXJQLPRXkK",
        "outputId": "dc93adf6-a78c-4fb4-fc6f-f6981b1bfe18"
      },
      "source": [
        "# initial point (0,0).T\n",
        "initial=np.array([0,0]).reshape(-1,1)\n",
        "backtracking(function_2,gradient_2,1,0.3,0.5,initial)"
      ],
      "execution_count": null,
      "outputs": [
        {
          "output_type": "stream",
          "text": [
            "Initial point: [[0 0]].T\n",
            "Solution found: [[0.99998474 0.99999237]].T\n",
            "=====Iteration1=====\n",
            "Search direction: [[0 2]].T\n",
            "Step length: 0.25\n",
            "New iterate: [[0.  0.5]].T\n",
            "=====Iteration2=====\n",
            "Search direction: [[ 1. -0.]].T\n",
            "Step length: 0.5\n",
            "New iterate: [[0.5 0.5]].T\n",
            "=====Iteration3=====\n",
            "Search direction: [[-0.  1.]].T\n",
            "Step length: 0.25\n",
            "New iterate: [[0.5  0.75]].T\n",
            "=====Iteration4=====\n",
            "Search direction: [[ 0.5 -0. ]].T\n",
            "Step length: 0.5\n",
            "New iterate: [[0.75 0.75]].T\n",
            "=====Iteration5=====\n",
            "Search direction: [[-0.   0.5]].T\n",
            "Step length: 0.25\n",
            "New iterate: [[0.75  0.875]].T\n",
            "=====Iteration6=====\n",
            "Search direction: [[ 0.25 -0.  ]].T\n",
            "Step length: 0.5\n",
            "New iterate: [[0.875 0.875]].T\n",
            "=====Iteration7=====\n",
            "Search direction: [[-0.    0.25]].T\n",
            "Step length: 0.25\n",
            "New iterate: [[0.875  0.9375]].T\n",
            "=====Iteration8=====\n",
            "Search direction: [[ 0.125 -0.   ]].T\n",
            "Step length: 0.5\n",
            "New iterate: [[0.9375 0.9375]].T\n",
            "=====Iteration9=====\n",
            "Search direction: [[-0.     0.125]].T\n",
            "Step length: 0.25\n",
            "New iterate: [[0.9375  0.96875]].T\n",
            "=====Iteration10=====\n",
            "Search direction: [[ 0.0625 -0.    ]].T\n",
            "Step length: 0.5\n",
            "New iterate: [[0.96875 0.96875]].T\n",
            "\n",
            "        ..........\n",
            "        ..........\n",
            "=====Iteration30=====\n",
            "Search direction: [[-0.          0.00012207]].T\n",
            "Step length: 0.25\n",
            "New iterate: [[0.99993896 0.99996948]].T\n",
            "=====Iteration31=====\n",
            "Search direction: [[ 6.10351562e-05 -0.00000000e+00]].T\n",
            "Step length: 0.5\n",
            "New iterate: [[0.99996948 0.99996948]].T\n",
            "=====Iteration32=====\n",
            "Search direction: [[-0.00000000e+00  6.10351562e-05]].T\n",
            "Step length: 0.25\n",
            "New iterate: [[0.99996948 0.99998474]].T\n",
            "=====Iteration33=====\n",
            "Search direction: [[ 3.05175781e-05 -0.00000000e+00]].T\n",
            "Step length: 0.5\n",
            "New iterate: [[0.99998474 0.99998474]].T\n",
            "=====Iteration34=====\n",
            "Search direction: [[-0.00000000e+00  3.05175781e-05]].T\n",
            "Step length: 0.25\n",
            "New iterate: [[0.99998474 0.99999237]].T\n"
          ],
          "name": "stdout"
        }
      ]
    },
    {
      "cell_type": "markdown",
      "metadata": {
        "id": "dx3bHRSdSRvs"
      },
      "source": [
        "# Test function 3:\n",
        "\\begin{equation}\n",
        "f_{3}(x)=100\\left(x_{2}-x_{1}^{2}\\right)^{2}+\\left(1-x_{1}\\right)^{2}\n",
        "\\end{equation}"
      ]
    },
    {
      "cell_type": "code",
      "metadata": {
        "id": "t2RaB6cUZ3cg"
      },
      "source": [
        "# define function\n",
        "def function_3(x):\n",
        "    x1=x[0]\n",
        "    x2=x[1]\n",
        "    return 100*(x2-x1**2)**2+(1-x1)**2\n",
        "# define gradient\n",
        "def gradient_3(x):\n",
        "    x1=x[0]\n",
        "    x2=x[1]\n",
        "    gradient=np.array([-400*x1*(x2-x1**2)-2*(1-x1),200*(x2-x1**2)]).reshape(-1,1)\n",
        "    return gradient"
      ],
      "execution_count": null,
      "outputs": []
    },
    {
      "cell_type": "code",
      "metadata": {
        "colab": {
          "base_uri": "https://localhost:8080/"
        },
        "id": "Aq_BjKdzbfpB",
        "outputId": "b53ea365-83be-456a-881b-08f0d83f5e4b"
      },
      "source": [
        "# initial point (-1.2,1).T\n",
        "initial=np.array([-1.2,1]).reshape(-1,1)\n",
        "backtracking(function_3,gradient_3,1,0.3,0.5,initial)"
      ],
      "execution_count": null,
      "outputs": [
        {
          "output_type": "stream",
          "text": [
            "Initial point: [[-1.2  1. ]].T\n",
            "Solution found: [[1.0000106  1.00002124]].T\n",
            "=====Iteration1=====\n",
            "Search direction: [[215.6  88. ]].T\n",
            "Step length: 0.0009765625\n",
            "New iterate: [[-0.98945312  1.0859375 ]].T\n",
            "=====Iteration2=====\n",
            "Search direction: [[-38.33803031 -21.38400269]].T\n",
            "Step length: 0.0009765625\n",
            "New iterate: [[-1.02689261  1.06505468]].T\n",
            "=====Iteration3=====\n",
            "Search direction: [[-0.27816415 -2.10925141]].T\n",
            "Step length: 0.00390625\n",
            "New iterate: [[-1.02797919  1.05681542]].T\n",
            "=====Iteration4=====\n",
            "Search direction: [[ 4.02544229 -0.01484275]].T\n",
            "Step length: 0.5\n",
            "New iterate: [[0.98474196 1.04939405]].T\n",
            "=====Iteration5=====\n",
            "Search direction: [[ 31.41515509 -15.93546343]].T\n",
            "Step length: 0.0009765625\n",
            "New iterate: [[1.01542082 1.03383207]].T\n",
            "=====Iteration6=====\n",
            "Search direction: [[ 1.08718639 -0.55052448]].T\n",
            "Step length: 0.0009765625\n",
            "New iterate: [[1.01648253 1.03329445]].T\n",
            "=====Iteration7=====\n",
            "Search direction: [[-0.00949734 -0.01154359]].T\n",
            "Step length: 0.015625\n",
            "New iterate: [[1.01633413 1.03311408]].T\n",
            "=====Iteration8=====\n",
            "Search direction: [[ 0.0401058  -0.03580224]].T\n",
            "Step length: 0.0009765625\n",
            "New iterate: [[1.0163733  1.03307912]].T\n",
            "=====Iteration9=====\n",
            "Search direction: [[-0.00655043 -0.01288708]].T\n",
            "Step length: 1\n",
            "New iterate: [[1.00982287 1.02019204]].T\n",
            "=====Iteration10=====\n",
            "Search direction: [[ 0.16204633 -0.08996234]].T\n",
            "Step length: 0.0009765625\n",
            "New iterate: [[1.00998112 1.02010418]].T\n",
            "\n",
            "        ..........\n",
            "        ..........\n",
            "=====Iteration288=====\n",
            "Search direction: [[ 1.73867181e-05 -2.19493376e-05]].T\n",
            "Step length: 0.0009765625\n",
            "New iterate: [[1.00001327 1.0000266 ]].T\n",
            "=====Iteration289=====\n",
            "Search direction: [[-4.80504735e-06 -1.08705808e-05]].T\n",
            "Step length: 0.5\n",
            "New iterate: [[1.00001087 1.00002117]].T\n",
            "=====Iteration290=====\n",
            "Search direction: [[-0.00025208  0.00011517]].T\n",
            "Step length: 0.0009765625\n",
            "New iterate: [[1.00001062 1.00002128]].T\n",
            "=====Iteration291=====\n",
            "Search direction: [[-9.65783514e-06 -5.79557717e-06]].T\n",
            "Step length: 0.00390625\n",
            "New iterate: [[1.00001059 1.00002126]].T\n",
            "=====Iteration292=====\n",
            "Search direction: [[ 1.15433056e-05 -1.63583100e-05]].T\n",
            "Step length: 0.0009765625\n",
            "New iterate: [[1.0000106  1.00002124]].T\n"
          ],
          "name": "stdout"
        }
      ]
    },
    {
      "cell_type": "markdown",
      "metadata": {
        "id": "u308sE9Bc8em"
      },
      "source": [
        "# Test function 4:\n",
        "\\begin{equation}\n",
        "f_{4}(x)=\\left(x_{1}+x_{2}\\right)^{4}+x_{2}^{2}\n",
        "\\end{equation}"
      ]
    },
    {
      "cell_type": "code",
      "metadata": {
        "id": "ZDEpSq5adErK"
      },
      "source": [
        "# define function\n",
        "def function_4(x):\n",
        "    x1=x[0]\n",
        "    x2=x[1]\n",
        "    return (x1+x2)**4+x2**2\n",
        "# define gradient\n",
        "def gradient_4(x):\n",
        "    x1=x[0]\n",
        "    x2=x[1]\n",
        "    gradient=np.array([4*(x1+x2)**3,4*(x1+x2)**3+2*x2]).reshape(-1,1)\n",
        "    return gradient"
      ],
      "execution_count": null,
      "outputs": []
    },
    {
      "cell_type": "code",
      "metadata": {
        "colab": {
          "base_uri": "https://localhost:8080/"
        },
        "id": "yF5Wx9Fwditl",
        "outputId": "3219727d-afbc-4e25-ffb5-ec2bf8e6137a"
      },
      "source": [
        "# initial point (2,-2).T\n",
        "initial=np.array([2,-2]).reshape(-1,1)\n",
        "backtracking(function_4,gradient_4,1,0.3,0.5,initial)"
      ],
      "execution_count": null,
      "outputs": [
        {
          "output_type": "stream",
          "text": [
            "Initial point: [[ 2 -2]].T\n",
            "Solution found: [[ 1.35714901e-02 -4.90320909e-06]].T\n",
            "=====Iteration1=====\n",
            "Search direction: [[0 4]].T\n",
            "Step length: 0.25\n",
            "New iterate: [[ 2. -1.]].T\n",
            "=====Iteration2=====\n",
            "Search direction: [[-4. -2.]].T\n",
            "Step length: 0.0625\n",
            "New iterate: [[ 1.75  -1.125]].T\n",
            "=====Iteration3=====\n",
            "Search direction: [[-0.9765625  1.2734375]].T\n",
            "Step length: 0.5\n",
            "New iterate: [[ 1.26171875 -0.48828125]].T\n",
            "=====Iteration4=====\n",
            "Search direction: [[-1.85069847 -0.87413597]].T\n",
            "Step length: 0.125\n",
            "New iterate: [[ 1.03038144 -0.59754825]].T\n",
            "=====Iteration5=====\n",
            "Search direction: [[-0.3243558   0.87074069]].T\n",
            "Step length: 0.25\n",
            "New iterate: [[ 0.94929249 -0.37986307]].T\n",
            "=====Iteration6=====\n",
            "Search direction: [[-0.73854964  0.02117651]].T\n",
            "Step length: 0.5\n",
            "New iterate: [[ 0.58001767 -0.36927482]].T\n",
            "=====Iteration7=====\n",
            "Search direction: [[-0.03743851  0.70111112]].T\n",
            "Step length: 0.25\n",
            "New iterate: [[ 0.57065804 -0.19399704]].T\n",
            "=====Iteration8=====\n",
            "Search direction: [[-0.21375289  0.17424119]].T\n",
            "Step length: 1\n",
            "New iterate: [[ 0.35690516 -0.01975585]].T\n",
            "=====Iteration9=====\n",
            "Search direction: [[-0.15329459 -0.11378289]].T\n",
            "Step length: 0.5\n",
            "New iterate: [[ 0.28025787 -0.07664729]].T\n",
            "=====Iteration10=====\n",
            "Search direction: [[-0.03376455  0.11953004]].T\n",
            "Step length: 0.5\n",
            "New iterate: [[ 0.26337559 -0.01688227]].T\n",
            "\n",
            "        ..........\n",
            "        ..........\n",
            "=====Iteration687=====\n",
            "Search direction: [[-1.00987376e-05  2.01569716e-07]].T\n",
            "Step length: 1\n",
            "New iterate: [[ 1.36116625e-02 -4.94858395e-06]].T\n",
            "=====Iteration688=====\n",
            "Search direction: [[-1.00767330e-05 -1.79565062e-07]].T\n",
            "Step length: 1\n",
            "New iterate: [[ 1.36015857e-02 -5.12814901e-06]].T\n",
            "=====Iteration689=====\n",
            "Search direction: [[-1.00539636e-05  2.02334430e-07]].T\n",
            "Step length: 1\n",
            "New iterate: [[ 1.35915318e-02 -4.92581458e-06]].T\n",
            "=====Iteration690=====\n",
            "Search direction: [[-1.00321249e-05 -1.80495763e-07]].T\n",
            "Step length: 1\n",
            "New iterate: [[ 1.35814996e-02 -5.10631034e-06]].T\n",
            "=====Iteration691=====\n",
            "Search direction: [[-1.00095194e-05  2.03101253e-07]].T\n",
            "Step length: 1\n",
            "New iterate: [[ 1.35714901e-02 -4.90320909e-06]].T\n"
          ],
          "name": "stdout"
        }
      ]
    },
    {
      "cell_type": "markdown",
      "metadata": {
        "id": "oRla--mjdzMQ"
      },
      "source": [
        "# Test function 5:\n",
        "\\begin{equation}\n",
        "f_{5}(x)=\\left(x_{1}-1\\right)^{2}+\\left(x_{2}-1\\right)^{2}+c\\left(x_{1}^{2}+x_{2}^{2}-0.25\\right)^{2}\n",
        "\\end{equation}"
      ]
    },
    {
      "cell_type": "markdown",
      "metadata": {
        "id": "C8W8HHJvd-09"
      },
      "source": [
        "**c=1**"
      ]
    },
    {
      "cell_type": "code",
      "metadata": {
        "id": "U5s8jQfFd7Ag"
      },
      "source": [
        "# define function\n",
        "def function_5_1(x):\n",
        "    x1=x[0]\n",
        "    x2=x[1]\n",
        "    return (x1-1)**2+(x2-1)**2+(x1**2+x2**2-0.25)**2\n",
        "# define gradient\n",
        "def gradient_5_1(x):\n",
        "    x1=x[0]\n",
        "    x2=x[1]\n",
        "    gradient=np.array([2*(x1-1)+4*x1*(x1**2+x2**2-0.25),\n",
        "                                    2*(x2-1)+4*x2*(x1**2+x2**2-0.25)]).reshape(-1,1)\n",
        "    return gradient"
      ],
      "execution_count": null,
      "outputs": []
    },
    {
      "cell_type": "code",
      "metadata": {
        "colab": {
          "base_uri": "https://localhost:8080/"
        },
        "id": "WkpurOnRfFD6",
        "outputId": "faddaebb-6f94-4df5-9c93-f491e082378c"
      },
      "source": [
        "# initial point (1,-1).T\n",
        "initial=np.array([1,-1]).reshape(-1,1)\n",
        "backtracking(function_5_1,gradient_5_1,1,0.3,0.5,initial)"
      ],
      "execution_count": null,
      "outputs": [
        {
          "output_type": "stream",
          "text": [
            "Initial point: [[ 1 -1]].T\n",
            "Solution found: [[0.56408669 0.56408569]].T\n",
            "=====Iteration1=====\n",
            "Search direction: [[-7. 11.]].T\n",
            "Step length: 0.0625\n",
            "New iterate: [[ 0.5625 -0.3125]].T\n",
            "=====Iteration2=====\n",
            "Search direction: [[0.50585938 2.83007812]].T\n",
            "Step length: 0.25\n",
            "New iterate: [[0.68896484 0.39501953]].T\n",
            "=====Iteration3=====\n",
            "Search direction: [[-0.42712114  0.60840468]].T\n",
            "Step length: 0.25\n",
            "New iterate: [[0.58218456 0.5471207 ]].T\n",
            "=====Iteration4=====\n",
            "Search direction: [[-0.06857142  0.05601467]].T\n",
            "Step length: 0.25\n",
            "New iterate: [[0.5650417  0.56112437]].T\n",
            "=====Iteration5=====\n",
            "Search direction: [[0.00171264 0.01556643]].T\n",
            "Step length: 0.125\n",
            "New iterate: [[0.56525579 0.56307017]].T\n",
            "=====Iteration6=====\n",
            "Search direction: [[-0.00453747  0.00321326]].T\n",
            "Step length: 0.25\n",
            "New iterate: [[0.56412142 0.56387349]].T\n",
            "=====Iteration7=====\n",
            "Search direction: [[0.00033335 0.0012122 ]].T\n",
            "Step length: 0.125\n",
            "New iterate: [[0.56416309 0.56402501]].T\n",
            "=====Iteration8=====\n",
            "Search direction: [[-0.00030612  0.00018344]].T\n",
            "Step length: 0.25\n",
            "New iterate: [[0.56408656 0.56407087]].T\n",
            "=====Iteration9=====\n",
            "Search direction: [[4.33237111e-05 9.89335031e-05]].T\n",
            "Step length: 0.125\n",
            "New iterate: [[0.56409197 0.56408324]].T\n",
            "=====Iteration10=====\n",
            "Search direction: [[-2.11420106e-05  9.82306802e-06]].T\n",
            "Step length: 0.25\n",
            "New iterate: [[0.56408669 0.56408569]].T\n"
          ],
          "name": "stdout"
        }
      ]
    },
    {
      "cell_type": "markdown",
      "metadata": {
        "id": "hAoQVHO1ft8v"
      },
      "source": [
        "**c=10**\n"
      ]
    },
    {
      "cell_type": "code",
      "metadata": {
        "id": "RtTZAIBzfvom"
      },
      "source": [
        "# define function\n",
        "def function_5_2(x):\n",
        "    x1=x[0]\n",
        "    x2=x[1]\n",
        "    return (x1-1)**2+(x2-1)**2+10*(x1**2+x2**2-0.25)**2\n",
        "# define gradient\n",
        "def gradient_5_2(x):\n",
        "    x1=x[0]\n",
        "    x2=x[1]\n",
        "    gradient=np.array([2*(x1-1)+40*x1*(x1**2+x2**2-0.25),\n",
        "                                    2*(x2-1)+40*x2*(x1**2+x2**2-0.25)]).reshape(-1,1)\n",
        "    return gradient"
      ],
      "execution_count": null,
      "outputs": []
    },
    {
      "cell_type": "code",
      "metadata": {
        "colab": {
          "base_uri": "https://localhost:8080/"
        },
        "id": "8eIBozoOf353",
        "outputId": "e2f728e5-b002-49bb-9b1a-3f1b90050881"
      },
      "source": [
        "# initial point (1,-1).T\n",
        "initial=np.array([1,-1]).reshape(-1,1)\n",
        "backtracking(function_5_2,gradient_5_2,1,0.3,0.5,initial)"
      ],
      "execution_count": null,
      "outputs": [
        {
          "output_type": "stream",
          "text": [
            "Initial point: [[ 1 -1]].T\n",
            "Solution found: [[0.40260809 0.40261189]].T\n",
            "=====Iteration1=====\n",
            "Search direction: [[-70.  74.]].T\n",
            "Step length: 0.0078125\n",
            "New iterate: [[ 0.453125 -0.421875]].T\n",
            "=====Iteration2=====\n",
            "Search direction: [[-1.32232666  5.09320068]].T\n",
            "Step length: 0.125\n",
            "New iterate: [[0.28783417 0.21477509]].T\n",
            "=====Iteration3=====\n",
            "Search direction: [[2.81771562 2.61016016]].T\n",
            "Step length: 0.0625\n",
            "New iterate: [[0.46394139 0.3779101 ]].T\n",
            "=====Iteration4=====\n",
            "Search direction: [[-0.9331796  -0.38926338]].T\n",
            "Step length: 0.03125\n",
            "New iterate: [[0.43477953 0.36574562]].T\n",
            "=====Iteration5=====\n",
            "Search direction: [[-0.1356909   0.20341224]].T\n",
            "Step length: 0.125\n",
            "New iterate: [[0.41781817 0.39117215]].T\n",
            "=====Iteration6=====\n",
            "Search direction: [[-0.13233786  0.0036503 ]].T\n",
            "Step length: 0.0625\n",
            "New iterate: [[0.40954705 0.39140029]].T\n",
            "=====Iteration7=====\n",
            "Search direction: [[0.01905408 0.10682851]].T\n",
            "Step length: 0.0625\n",
            "New iterate: [[0.41073793 0.39807707]].T\n",
            "=====Iteration8=====\n",
            "Search direction: [[-0.08935821 -0.02495443]].T\n",
            "Step length: 0.03125\n",
            "New iterate: [[0.40794549 0.39729725]].T\n",
            "=====Iteration9=====\n",
            "Search direction: [[-0.02772769  0.02520031]].T\n",
            "Step length: 0.25\n",
            "New iterate: [[0.40101357 0.40359732]].T\n",
            "=====Iteration10=====\n",
            "Search direction: [[0.0157419 0.0029572]].T\n",
            "Step length: 0.03125\n",
            "New iterate: [[0.4015055  0.40368973]].T\n",
            "\n",
            "        ..........\n",
            "        ..........\n",
            "=====Iteration15=====\n",
            "Search direction: [[0.00078815 0.00025233]].T\n",
            "Step length: 0.03125\n",
            "New iterate: [[0.40256387 0.40265501]].T\n",
            "=====Iteration16=====\n",
            "Search direction: [[ 0.00024427 -0.00020849]].T\n",
            "Step length: 0.25\n",
            "New iterate: [[0.40262494 0.40260289]].T\n",
            "=====Iteration17=====\n",
            "Search direction: [[-1.75040252e-04 -6.55170565e-05]].T\n",
            "Step length: 0.03125\n",
            "New iterate: [[0.40261947 0.40260084]].T\n",
            "=====Iteration18=====\n",
            "Search direction: [[-5.03795106e-05  4.21362575e-05]].T\n",
            "Step length: 0.25\n",
            "New iterate: [[0.40260687 0.40261138]].T\n",
            "=====Iteration19=====\n",
            "Search direction: [[3.89129076e-05 1.65337616e-05]].T\n",
            "Step length: 0.03125\n",
            "New iterate: [[0.40260809 0.40261189]].T\n"
          ],
          "name": "stdout"
        }
      ]
    },
    {
      "cell_type": "markdown",
      "metadata": {
        "id": "FXJdfuEJfZeO"
      },
      "source": [
        "**c=100**"
      ]
    },
    {
      "cell_type": "code",
      "metadata": {
        "id": "_5eiEz5mfawH"
      },
      "source": [
        "# define function\n",
        "def function_5_3(x):\n",
        "    x1=x[0]\n",
        "    x2=x[1]\n",
        "    return (x1-1)**2+(x2-1)**2+100*(x1**2+x2**2-0.25)**2\n",
        "# define gradient\n",
        "def gradient_5_3(x):\n",
        "    x1=x[0]\n",
        "    x2=x[1]\n",
        "    gradient=np.array([2*(x1-1)+400*x1*(x1**2+x2**2-0.25),\n",
        "                                    2*(x2-1)+400*x2*(x1**2+x2**2-0.25)]).reshape(-1,1)\n",
        "    return gradient"
      ],
      "execution_count": null,
      "outputs": []
    },
    {
      "cell_type": "code",
      "metadata": {
        "colab": {
          "base_uri": "https://localhost:8080/"
        },
        "id": "CV8ZuvW-fldH",
        "outputId": "ed38d5e9-be62-4ea9-dd6b-cfdf018aa97a"
      },
      "source": [
        "# initial point (1,-1).T\n",
        "initial=np.array([1,-1]).reshape(-1,1)\n",
        "backtracking(function_5_3,gradient_5_3,1,0.3,0.5,initial)"
      ],
      "execution_count": null,
      "outputs": [
        {
          "output_type": "stream",
          "text": [
            "Initial point: [[ 1 -1]].T\n",
            "Solution found: [[0.35979134 0.35978779]].T\n",
            "=====Iteration1=====\n",
            "Search direction: [[-700.  704.]].T\n",
            "Step length: 0.0009765625\n",
            "New iterate: [[ 0.31640625 -0.3125    ]].T\n",
            "=====Iteration2=====\n",
            "Search direction: [[ 7.97765255 -3.90385437]].T\n",
            "Step length: 0.0078125\n",
            "New iterate: [[ 0.37873166 -0.34299886]].T\n",
            "=====Iteration3=====\n",
            "Search direction: [[-0.43689437  4.20697682]].T\n",
            "Step length: 0.0078125\n",
            "New iterate: [[ 0.37531842 -0.31013186]].T\n",
            "=====Iteration4=====\n",
            "Search direction: [[3.1941601  1.01324565]].T\n",
            "Step length: 0.015625\n",
            "New iterate: [[ 0.42522717 -0.29429989]].T\n",
            "=====Iteration5=====\n",
            "Search direction: [[-1.81523636  4.64052656]].T\n",
            "Step length: 0.0078125\n",
            "New iterate: [[ 0.41104564 -0.25804578]].T\n",
            "=====Iteration6=====\n",
            "Search direction: [[3.55438672 1.02418882]].T\n",
            "Step length: 0.0078125\n",
            "New iterate: [[ 0.43881429 -0.2500443 ]].T\n",
            "=====Iteration7=====\n",
            "Search direction: [[0.23067757 3.00819186]].T\n",
            "Step length: 0.125\n",
            "New iterate: [[0.46764898 0.12597968]].T\n",
            "=====Iteration8=====\n",
            "Search direction: [[3.95169534 2.52576604]].T\n",
            "Step length: 0.00390625\n",
            "New iterate: [[0.48308529 0.13584595]].T\n",
            "=====Iteration9=====\n",
            "Search direction: [[0.68107594 1.62911209]].T\n",
            "Step length: 0.015625\n",
            "New iterate: [[0.49372711 0.16130083]].T\n",
            "=====Iteration10=====\n",
            "Search direction: [[-2.89469436  0.40090153]].T\n",
            "Step length: 0.0078125\n",
            "New iterate: [[0.47111231 0.16443287]].T\n",
            "\n",
            "        ..........\n",
            "        ..........\n",
            "=====Iteration206=====\n",
            "Search direction: [[3.05613652e-06 2.88695869e-05]].T\n",
            "Step length: 0.0078125\n",
            "New iterate: [[0.3597918  0.35978736]].T\n",
            "=====Iteration207=====\n",
            "Search direction: [[-2.29062228e-05  1.78652437e-06]].T\n",
            "Step length: 0.0078125\n",
            "New iterate: [[0.35979162 0.35978737]].T\n",
            "=====Iteration208=====\n",
            "Search direction: [[-4.8242631e-06  1.8795916e-05]].T\n",
            "Step length: 0.015625\n",
            "New iterate: [[0.35979155 0.35978767]].T\n",
            "=====Iteration209=====\n",
            "Search direction: [[-2.70127789e-05 -5.44391122e-06]].T\n",
            "Step length: 0.0078125\n",
            "New iterate: [[0.35979134 0.35978762]].T\n",
            "=====Iteration210=====\n",
            "Search direction: [[4.19758568e-07 2.10516515e-05]].T\n",
            "Step length: 0.0078125\n",
            "New iterate: [[0.35979134 0.35978779]].T\n"
          ],
          "name": "stdout"
        }
      ]
    }
  ]
}